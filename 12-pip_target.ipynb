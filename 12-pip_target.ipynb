{
 "cells": [
  {
   "cell_type": "markdown",
   "id": "df1eff91",
   "metadata": {},
   "source": [
    "### 12. 台灣杉三號 自訂 pip target 安裝位置\n",
    "    - 課程重點: 學習如何自訂 pip install (target) 安裝位置\n",
    "    - https://hackmd.io/@whYPD8MBSHWRZV6y-ymFwQ/HyTyWteut"
   ]
  },
  {
   "cell_type": "code",
   "execution_count": 1,
   "id": "d762bade",
   "metadata": {},
   "outputs": [],
   "source": [
    "## 下載變更 pip target位置函示庫\n",
    "!wget -q https://raw.githubusercontent.com/c00cjz00/slurmjob/main/imageinit.py -O imageinit.py"
   ]
  },
  {
   "cell_type": "code",
   "execution_count": 2,
   "id": "163d48b8",
   "metadata": {},
   "outputs": [],
   "source": [
    "## 自動重新載入\n",
    "%load_ext autoreload\n",
    "%reload_ext autoreload\n",
    "%autoreload 2"
   ]
  },
  {
   "cell_type": "markdown",
   "id": "4af78964",
   "metadata": {},
   "source": [
    "## 更換目錄, 安裝pillow"
   ]
  },
  {
   "cell_type": "code",
   "execution_count": 4,
   "id": "a3cf5b62",
   "metadata": {},
   "outputs": [
    {
     "name": "stdout",
     "output_type": "stream",
     "text": [
      "env: CONDA_PKGS_DIRS=/work/c00cjz002/myenv/.package_mycolab7_nchc_conda/pkgs\n",
      "env: CONDA_ENVS_DIRS=/work/c00cjz002/myenv/.package_mycolab7_nchc_conda/envs\n",
      "env: PYTHONUSERBASE=/work/c00cjz002/myenv/.package_mycolab7_nchc_conda/envs/mycolab7\n",
      "env: PIP_TARGET=/work/c00cjz002/myenv/.package_mycolab7_nchc_conda/envs/mycolab7/lib/python3.8/site-packages\n",
      "rm -rf /work/c00cjz002/myenv/.package_mycolab7_nchc_conda\n"
     ]
    }
   ],
   "source": [
    "## 設定安裝目錄, 安裝位置為 /work/c00cjz002/myenv/.package_mycolab_nchc_conda\n",
    "from imageinit import myimage\n",
    "myENV='mycolab7'\n",
    "myimage(myENV,resetPackage=\"true\")"
   ]
  },
  {
   "cell_type": "code",
   "execution_count": 6,
   "id": "896c7fa9",
   "metadata": {},
   "outputs": [
    {
     "name": "stdout",
     "output_type": "stream",
     "text": [
      "Pillow                        8.4.0            /work/c00cjz002/myenv/.package_mycolab7_nchc_conda/envs/mycolab7/lib/python3.8/site-packages pip\n",
      "\u001b[33mWARNING: You are using pip version 21.2.4; however, version 21.3.1 is available.\n",
      "You should consider upgrading via the '/opt/conda/bin/python3 -m pip install --upgrade pip' command.\u001b[0m\n"
     ]
    }
   ],
   "source": [
    "# 移除 pillow\n",
    "#!pip uninstall pillow  -y\n",
    "\n",
    "# 安裝 pillow\n",
    "!pip install -qq pillow --no-user\n",
    "\n",
    "# 確認 pillow 套件 安裝位置\n",
    "!pip list -v |grep -i pillow "
   ]
  },
  {
   "cell_type": "code",
   "execution_count": null,
   "id": "71ce09d2",
   "metadata": {},
   "outputs": [],
   "source": [
    "# 載入 pillow\n",
    "from PIL import Image"
   ]
  },
  {
   "cell_type": "markdown",
   "id": "6a220e92",
   "metadata": {},
   "source": [
    "## 更換目錄, 安裝CV2"
   ]
  },
  {
   "cell_type": "code",
   "execution_count": 3,
   "id": "41d1401a",
   "metadata": {},
   "outputs": [
    {
     "name": "stdout",
     "output_type": "stream",
     "text": [
      "env: CONDA_PKGS_DIRS=/work/c00cjz001/myenv/.package_mycolab2_nchc_conda/pkgs\n",
      "env: CONDA_ENVS_DIRS=/work/c00cjz001/myenv/.package_mycolab2_nchc_conda/envs\n",
      "env: PYTHONUSERBASE=/work/c00cjz001/myenv/.package_mycolab2_nchc_conda/envs/mycolab2\n",
      "env: PIP_TARGET=/work/c00cjz001/myenv/.package_mycolab2_nchc_conda/envs/mycolab2/lib/python3.8/site-packages\n"
     ]
    }
   ],
   "source": [
    "## 設定安裝目錄, 安裝位置為 /work/c00cjz002/myenv/.package_mycolab_nchc_conda\n",
    "from imageinit import myimage\n",
    "myENV='mycolab2'\n",
    "myimage(myENV,resetPackage=\"\")"
   ]
  },
  {
   "cell_type": "code",
   "execution_count": null,
   "id": "ce64bc29",
   "metadata": {},
   "outputs": [],
   "source": [
    "# 移除 opencv-python \n",
    "#!pip uninstall opencv-python  -y\n",
    "\n",
    "# 安裝 opencv-python \n",
    "!pip install -qq opencv-python --no-user\n",
    "\n",
    "# 確認 pillow 套件 安裝位置\n",
    "!pip list -v |grep -i opencv-python "
   ]
  },
  {
   "cell_type": "code",
   "execution_count": 4,
   "id": "49c51796",
   "metadata": {},
   "outputs": [],
   "source": [
    "import cv2"
   ]
  },
  {
   "cell_type": "code",
   "execution_count": null,
   "id": "747c7a75",
   "metadata": {},
   "outputs": [],
   "source": []
  }
 ],
 "metadata": {
  "kernelspec": {
   "display_name": "Python 3 (ipykernel)",
   "language": "python",
   "name": "python3"
  },
  "language_info": {
   "codemirror_mode": {
    "name": "ipython",
    "version": 3
   },
   "file_extension": ".py",
   "mimetype": "text/x-python",
   "name": "python",
   "nbconvert_exporter": "python",
   "pygments_lexer": "ipython3",
   "version": "3.8.12"
  }
 },
 "nbformat": 4,
 "nbformat_minor": 5
}
