{
 "cells": [
  {
   "cell_type": "markdown",
   "id": "82774046-3cbd-44ea-8669-304fc1daa28b",
   "metadata": {},
   "source": [
    "### 12. 台灣杉三號 自訂 pip target 安裝位置\n",
    "    - 課程重點: 學習如何自訂 pip install (target) 安裝位置\n",
    "    - https://hackmd.io/@whYPD8MBSHWRZV6y-ymFwQ/HyTyWteut"
   ]
  },
  {
   "cell_type": "code",
   "execution_count": null,
   "id": "7e33ad3e-6472-4e73-9476-99e4b591bf25",
   "metadata": {},
   "outputs": [],
   "source": [
    "## 下載變更 pip target位置函示庫\n",
    "!wget -q https://raw.githubusercontent.com/c00cjz00/slurmjob/main/imageinit.py -O imageinit.py"
   ]
  },
  {
   "cell_type": "code",
   "execution_count": null,
   "id": "04cbbdaa-da41-4061-9150-4ac0400ac678",
   "metadata": {},
   "outputs": [],
   "source": [
    "## 自動重新載入\n",
    "%load_ext autoreload\n",
    "%reload_ext autoreload\n",
    "%autoreload 2"
   ]
  },
  {
   "cell_type": "markdown",
   "id": "fc1a8e88-3a03-40e5-9961-a67cb0b7bb68",
   "metadata": {},
   "source": [
    "## 更換目錄, 安裝pillow"
   ]
  },
  {
   "cell_type": "code",
   "execution_count": null,
   "id": "606d417c-adee-4c7a-967e-160643113a7a",
   "metadata": {},
   "outputs": [],
   "source": [
    "## 設定安裝目錄, 安裝位置為 /work/c00cjz002/myenv/.package_mycolab_nchc_conda\n",
    "from imageinit import myimage\n",
    "myENV='mycolab'\n",
    "myimage(myENV,resetPackage=\"\")"
   ]
  },
  {
   "cell_type": "code",
   "execution_count": null,
   "id": "079308fd-fcff-4d9a-a8b6-131ca197a404",
   "metadata": {},
   "outputs": [],
   "source": [
    "# 移除 pillow\n",
    "#!pip uninstall pillow  -y\n",
    "\n",
    "# 安裝 pillow\n",
    "!pip install -qq pillow --no-user\n",
    "\n",
    "# 確認 pillow 套件 安裝位置\n",
    "!pip list -v |grep -i pillow "
   ]
  },
  {
   "cell_type": "code",
   "execution_count": null,
   "id": "3cabe4eb-7bcc-49d2-aa49-64f155c058c7",
   "metadata": {},
   "outputs": [],
   "source": [
    "# 載入 pillow\n",
    "from PIL import Image"
   ]
  },
  {
   "cell_type": "markdown",
   "id": "139b4093-0802-426d-b843-c45c56285935",
   "metadata": {},
   "source": [
    "## 更換目錄, 安裝CV2"
   ]
  },
  {
   "cell_type": "code",
   "execution_count": 3,
   "id": "e94bce17-c0ff-46cb-babd-d68bf714c6ed",
   "metadata": {},
   "outputs": [
    {
     "name": "stdout",
     "output_type": "stream",
     "text": [
      "env: CONDA_PKGS_DIRS=/work/c00cjz001/myenv/.package_mycolab2_nchc_conda/pkgs\n",
      "env: CONDA_ENVS_DIRS=/work/c00cjz001/myenv/.package_mycolab2_nchc_conda/envs\n",
      "env: PYTHONUSERBASE=/work/c00cjz001/myenv/.package_mycolab2_nchc_conda/envs/mycolab2\n",
      "env: PIP_TARGET=/work/c00cjz001/myenv/.package_mycolab2_nchc_conda/envs/mycolab2/lib/python3.8/site-packages\n"
     ]
    }
   ],
   "source": [
    "## 設定安裝目錄, 安裝位置為 /work/c00cjz002/myenv/.package_mycolab_nchc_conda\n",
    "from imageinit import myimage\n",
    "myENV='mycolab2'\n",
    "myimage(myENV,resetPackage=\"\")"
   ]
  },
  {
   "cell_type": "code",
   "execution_count": null,
   "id": "c195974d-edc8-4c1f-a25b-8e36f14c890b",
   "metadata": {},
   "outputs": [],
   "source": [
    "# 移除 opencv-python \n",
    "#!pip uninstall opencv-python  -y\n",
    "\n",
    "# 安裝 opencv-python \n",
    "!pip install -qq opencv-python --no-user\n",
    "\n",
    "# 確認 pillow 套件 安裝位置\n",
    "!pip list -v |grep -i opencv-python "
   ]
  },
  {
   "cell_type": "code",
   "execution_count": 4,
   "id": "b2822dda-45a9-4f21-9f5d-f132aee99339",
   "metadata": {},
   "outputs": [],
   "source": [
    "import cv2"
   ]
  },
  {
   "cell_type": "code",
   "execution_count": null,
   "id": "55de98e1-dc34-42d5-949d-21d4f176b73b",
   "metadata": {},
   "outputs": [],
   "source": []
  }
 ],
 "metadata": {
  "kernelspec": {
   "display_name": "Python 3 (ipykernel)",
   "language": "python",
   "name": "python3"
  },
  "language_info": {
   "codemirror_mode": {
    "name": "ipython",
    "version": 3
   },
   "file_extension": ".py",
   "mimetype": "text/x-python",
   "name": "python",
   "nbconvert_exporter": "python",
   "pygments_lexer": "ipython3",
   "version": "3.8.12"
  }
 },
 "nbformat": 4,
 "nbformat_minor": 5
}
