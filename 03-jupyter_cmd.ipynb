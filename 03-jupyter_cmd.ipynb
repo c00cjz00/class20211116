{
 "cells": [
  {
   "cell_type": "markdown",
   "id": "57d223a3-b161-43bc-bc74-9eaaedbe6b9c",
   "metadata": {},
   "source": [
    "### 3. 台灣杉三號 使用 JupyterLab 執行Linux指令\n",
    "    - 課程重點: 學習如何使用 JupyterLab 執行LINUX及FREESURFER指令\n",
    "    - https://hackmd.io/@whYPD8MBSHWRZV6y-ymFwQ/rJLTq2Jut"
   ]
  },
  {
   "cell_type": "raw",
   "id": "b28ec8cf-9508-49d1-b567-b218a16bb171",
   "metadata": {},
   "source": [
    "### 執行方法一\n",
    "第一行加入 %%bash, 之後可加入相關連續指令第一行加入 %%bash, 之後可加入相關連續指令"
   ]
  },
  {
   "cell_type": "code",
   "execution_count": null,
   "id": "9c8796d4-bbbc-481d-9469-ad53c180d3b4",
   "metadata": {},
   "outputs": [],
   "source": [
    "%%bash\n",
    "ls /opt/ohpc/Taiwania3/pkg/biology\n",
    "cd /opt/ohpc/Taiwania3/pkg/biology\n",
    "pwd"
   ]
  },
  {
   "cell_type": "markdown",
   "id": "3061ba80-6322-4186-ab49-aa96c6b26231",
   "metadata": {},
   "source": [
    "### 執行方法二\n",
    "每行指令前面加上! 執行單一獨立指令, 故pwd顯示並無切換目錄"
   ]
  },
  {
   "cell_type": "code",
   "execution_count": 1,
   "id": "b54b5a0f-782c-491f-ade5-74cbe15efe7c",
   "metadata": {},
   "outputs": [
    {
     "name": "stdout",
     "output_type": "stream",
     "text": [
      "/bin/bash: line 0: cd: /opt/ohpc/Taiwania3/pkg/biology/BLAST/BLAST_v2.12.0/bin/: No such file or directory\n",
      "/home/c00cjz001/class20211116\n"
     ]
    }
   ],
   "source": [
    "!cd /opt/ohpc/Taiwania3/pkg/biology/BLAST/BLAST_v2.12.0/bin/\n",
    "!pwd"
   ]
  },
  {
   "cell_type": "markdown",
   "id": "ff186848-b617-4169-b9f5-52444e491685",
   "metadata": {},
   "source": [
    "### 執行方法三\n",
    "%cd 為實際切換目錄, 故pwd顯示切換目錄"
   ]
  },
  {
   "cell_type": "code",
   "execution_count": null,
   "id": "fe5cc651-5fc4-4901-8290-731c1a28fae6",
   "metadata": {},
   "outputs": [],
   "source": [
    "%cd /opt/ohpc/Taiwania3/pkg/biology/BLAST/BLAST_v2.12.0/bin/\n",
    "!pwd"
   ]
  },
  {
   "cell_type": "code",
   "execution_count": null,
   "id": "68fd1240-81d0-4a69-93d8-2d70852578a6",
   "metadata": {},
   "outputs": [],
   "source": []
  }
 ],
 "metadata": {
  "kernelspec": {
   "display_name": "Image_guppy-gpu_latest",
   "language": "python",
   "name": "image_guppy-gpu_latest"
  },
  "language_info": {
   "codemirror_mode": {
    "name": "ipython",
    "version": 3
   },
   "file_extension": ".py",
   "mimetype": "text/x-python",
   "name": "python",
   "nbconvert_exporter": "python",
   "pygments_lexer": "ipython3",
   "version": "3.8.12"
  }
 },
 "nbformat": 4,
 "nbformat_minor": 5
}
