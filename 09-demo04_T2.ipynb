{
 "cells": [
  {
   "cell_type": "markdown",
   "id": "971d7fdf-097a-4ba7-8d8e-5e665644bda9",
   "metadata": {},
   "source": [
    "### 9. 台灣杉三號 guppy-gpu 工作派送排程 (四)\n",
    "    - 課程重點: 學習如何執行模組化派送工作到計算節點 (guppy-gpu)\n",
    "    - 課程重點: 把執行的job 寫成FUNCTION, 利用環境參數製作工作內容\n",
    "    - https://hackmd.io/@whYPD8MBSHWRZV6y-ymFwQ/SyW43dlOt"
   ]
  },
  {
   "cell_type": "code",
   "execution_count": null,
   "id": "973c8bf6-c9f5-4a3d-9e5e-f4b4f7892871",
   "metadata": {},
   "outputs": [],
   "source": [
    "# https://man.twcc.ai/@TWCC-III-manual/ryyo0tsuu\n",
    "def SLURM(cmd):\n",
    "    ## SLURM 內容, 請修改 ---> Email\n",
    "    SLURM='''#!/work/c00cjz002/binary/bash5.0/bin/bash\n",
    "#SBATCH -A GOV110079        # 計畫代號\n",
    "#SBATCH -J GPU_T2        # 工作代號 (標籤, 可自行定義)\n",
    "#SBATCH -p gp1d             # 工作區塊 \n",
    "#SBATCH -c 4                # 使用的CPU核心數\n",
    "#SBATCH --gres=gpu:1        # GPU數量, 記憶體容量x90GBxGPU core)\n",
    "#SBATCH --mail-user=summerhill001@gmail.com    # 請修改為您的信向\n",
    "#SBATCH --mail-type=BEGIN,END                  # 指定送出email時機 可為NONE, BEGIN, END, FAIL, REQUEUE, ALL\n",
    "#SBATCH -o log/%j.logi      # 執行記錄檔案儲存於log目錄底下\n",
    "'''\n",
    "    myCmd = SLURM + cmd\n",
    "    \n",
    "    ## 儲存上述內容 SLURM.sh\n",
    "    import time\n",
    "    slurm_shell = 'slurm/'+time.strftime(\"%Y-%m-%d_%H-%M-%S\")+'.sh'\n",
    "    \n",
    "    f = open(slurm_shell, \"w\")\n",
    "    f.write(myCmd)\n",
    "    f.close()    \n",
    "\n",
    "    ## 執行SLURM\n",
    "    #!sbatch SLURM.sh\n",
    "    jobID=(subprocess.check_output('sbatch '+slurm_shell+' |awk \\'{print $4}\\'', shell=True,text=True))\n",
    "    return jobID\n",
    "\n",
    "## 建立目錄\n",
    "import subprocess\n",
    "!mkdir -p slurm\n",
    "!mkdir -p log"
   ]
  },
  {
   "cell_type": "code",
   "execution_count": 2,
   "id": "4389382c-05b9-4f74-917c-aefe82f60fbe",
   "metadata": {},
   "outputs": [],
   "source": [
    "def createCMD(inputFile, saveFolder):\n",
    "    cmd='''  \n",
    "echo \"這是測試頁面05\"\n",
    "# 您的程式部分\n",
    "## -> 切換目錄\n",
    "%cd ~/class20211116\n",
    "\n",
    "## -> 載入singularity, 利用singularity執行程式\n",
    "ml singularity\n",
    "singularity exec \\\n",
    "-B /work/c00cjz002/data/fasta5 \\\n",
    "$HOME/guppy-gpu_latest.sif \\\n",
    "guppy_basecaller \\\n",
    "--compress_fastq \\\n",
    "-i '''+inputFile+''' \\\n",
    "-s $HOME/'''+saveFolder+''' \\\n",
    "--flowcell FLO-MIN106 \\\n",
    "--kit SQK-LSK109 \\\n",
    "-x cuda:0\n",
    "\n",
    "'''\n",
    "    return cmd"
   ]
  },
  {
   "cell_type": "code",
   "execution_count": 3,
   "id": "1ce6c1f0-99a8-4abd-9f01-754922bebfd4",
   "metadata": {},
   "outputs": [
    {
     "name": "stdout",
     "output_type": "stream",
     "text": [
      "  \n",
      "echo \"這是測試頁面05\"\n",
      "# 您的程式部分\n",
      "## -> 切換目錄\n",
      "%cd ~/class20211116\n",
      "\n",
      "## -> 載入singularity, 利用singularity執行程式\n",
      "ml singularity\n",
      "singularity exec -B /work/c00cjz001/data $HOME/guppy-gpu_latest.sif guppy_basecaller --compress_fastq -i /work/c00cjz001/data/fast5_small -s $HOME/class20211116/output/fast5_small --flowcell FLO-MIN106 --kit SQK-LSK109 -x cuda:0\n",
      "\n",
      "\n"
     ]
    }
   ],
   "source": [
    "## 指令集\n",
    "import os\n",
    "inputFile=\"/work/c00cjz002/data/fasta5/g1/fast5_small\"\n",
    "saveFolder=\"class20211116/output/\"+os.path.splitext(os.path.basename(inputFile))[0]\n",
    "cmd=createCMD(inputFile, saveFolder)\n",
    "print(cmd)"
   ]
  },
  {
   "cell_type": "code",
   "execution_count": 4,
   "id": "a5de9fc4-d92e-4499-8ac0-f0c1f0ec9f15",
   "metadata": {},
   "outputs": [
    {
     "name": "stdout",
     "output_type": "stream",
     "text": [
      "321751\n"
     ]
    },
    {
     "name": "stderr",
     "output_type": "stream",
     "text": [
      "sbatch: INFO: It is recommended to specify `--nodes` and `--ntasks-per-node` together\n"
     ]
    }
   ],
   "source": [
    "## 送出工作到計算節點電腦\n",
    "jobID = SLURM(cmd)\n",
    "print(jobID.strip())"
   ]
  },
  {
   "cell_type": "code",
   "execution_count": 5,
   "id": "489dbadd-d983-4ef1-b225-e18da5061765",
   "metadata": {},
   "outputs": [
    {
     "name": "stdout",
     "output_type": "stream",
     "text": [
      "             JOBID PARTITION     NAME     USER ST       TIME  NODES NODELIST(REASON)\n",
      "            321751      gp1d   GPU_T2 c00cjz00 PD       0:00      1 (None)\n"
     ]
    }
   ],
   "source": [
    "## 觀看執行狀況\n",
    "!squeue -u `whoami` | grep \"$jobID\\|JOBID\" "
   ]
  },
  {
   "cell_type": "code",
   "execution_count": null,
   "id": "cae3ddd5-b5bc-4136-9293-1685e1db68b7",
   "metadata": {},
   "outputs": [],
   "source": [
    "## 刪除JOB\n",
    "!scancel $jobID"
   ]
  },
  {
   "cell_type": "code",
   "execution_count": 15,
   "id": "4b01e4d4-0b81-49ee-967f-9ffe4996a35d",
   "metadata": {},
   "outputs": [],
   "source": [
    "## 全部JOB刪除\n",
    "!squeue -u `whoami` | grep -v JOBID  | awk '{print $1}' | xargs scancel  # 列出 PID 並砍掉 Process"
   ]
  },
  {
   "cell_type": "code",
   "execution_count": null,
   "id": "c0aebe19-645c-4522-838b-e348f35554b3",
   "metadata": {},
   "outputs": [],
   "source": []
  }
 ],
 "metadata": {
  "kernelspec": {
   "display_name": "Python 3 (ipykernel)",
   "language": "python",
   "name": "python3"
  },
  "language_info": {
   "codemirror_mode": {
    "name": "ipython",
    "version": 3
   },
   "file_extension": ".py",
   "mimetype": "text/x-python",
   "name": "python",
   "nbconvert_exporter": "python",
   "pygments_lexer": "ipython3",
   "version": "3.8.12"
  }
 },
 "nbformat": 4,
 "nbformat_minor": 5
}
