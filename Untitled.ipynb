{
 "cells": [
  {
   "cell_type": "code",
   "execution_count": 1,
   "id": "c7fe5b59",
   "metadata": {},
   "outputs": [
    {
     "name": "stdout",
     "output_type": "stream",
     "text": [
      "env: CONDA_PKGS_DIRS=/work/c00cjz002/myenv/.package_mycolab7_nchc_conda/pkgs\n",
      "env: CONDA_ENVS_DIRS=/work/c00cjz002/myenv/.package_mycolab7_nchc_conda/envs\n",
      "env: PYTHONUSERBASE=/work/c00cjz002/myenv/.package_mycolab7_nchc_conda/envs/mycolab7\n",
      "env: PIP_TARGET=/work/c00cjz002/myenv/.package_mycolab7_nchc_conda/envs/mycolab7/lib/python3.8/site-packages\n"
     ]
    }
   ],
   "source": [
    "## 設定安裝目錄, 安裝位置為 /work/c00cjz002/myenv/.package_mycolab_nchc_conda\n",
    "from imageinit import myimage\n",
    "myENV='mycolab7'\n",
    "myimage(myENV,resetPackage=\"\")"
   ]
  },
  {
   "cell_type": "code",
   "execution_count": 2,
   "id": "0b4c8a3d",
   "metadata": {},
   "outputs": [],
   "source": [
    "# 載入 pillow\n",
    "from PIL import Image"
   ]
  },
  {
   "cell_type": "code",
   "execution_count": null,
   "id": "7c5302f6",
   "metadata": {},
   "outputs": [],
   "source": []
  }
 ],
 "metadata": {
  "kernelspec": {
   "display_name": "Python 3 (ipykernel)",
   "language": "python",
   "name": "python3"
  },
  "language_info": {
   "codemirror_mode": {
    "name": "ipython",
    "version": 3
   },
   "file_extension": ".py",
   "mimetype": "text/x-python",
   "name": "python",
   "nbconvert_exporter": "python",
   "pygments_lexer": "ipython3",
   "version": "3.8.10"
  }
 },
 "nbformat": 4,
 "nbformat_minor": 5
}
