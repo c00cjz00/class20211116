{
 "cells": [
  {
   "cell_type": "markdown",
   "id": "60a40f75-3365-4ef1-9bbe-5e4c8a245cc3",
   "metadata": {},
   "source": [
    "### 6. 台灣杉三號 guppy-gpu 工作派送排程 (一)\n",
    "    - 課程重點: 學習如何執行guppy-gpu 在登入節點, 直接進行工作測試\n",
    "    - https://hackmd.io/@whYPD8MBSHWRZV6y-ymFwQ/HJLuoUCvY"
   ]
  },
  {
   "cell_type": "code",
   "execution_count": null,
   "id": "9a66d57c-36fb-4ae3-892f-54e2e7e43994",
   "metadata": {},
   "outputs": [],
   "source": [
    "# -> 切換目錄\n",
    "%cd ~/ \n",
    "# -> 載入singularity, 下載guppy-gpu\n",
    "!ml singularity; singularity -q pull docker://genomicpariscentre/guppy-gpu:latest"
   ]
  },
  {
   "cell_type": "code",
   "execution_count": 3,
   "id": "99b2c974-7ff8-4998-8e9b-e0e7231fe029",
   "metadata": {},
   "outputs": [
    {
     "name": "stdout",
     "output_type": "stream",
     "text": [
      "/home/c00cjz001/class20211116\n",
      "ONT Guppy basecalling software version 5.0.16+b9fcd7b5b\n",
      "config file:        /opt/ont/guppy/data/dna_r9.4.1_450bps_hac.cfg\n",
      "model file:         /opt/ont/guppy/data/template_r9.4.1_450bps_hac.jsn\n",
      "input path:         /work/c00cjz002/data/fasta5/g1/fast5_small\n",
      "save path:          /home/c00cjz001/class20211116/output\n",
      "chunk size:         2000\n",
      "chunks per runner:  256\n",
      "minimum qscore:     9\n",
      "records per file:   4000\n",
      "fastq compression:  ON\n",
      "num basecallers:    4\n",
      "gpu device:         cuda:0\n",
      "kernel path:        \n",
      "runners per device: 4\n",
      "\n",
      "Found 10 fast5 files to process.\n",
      "Init time: 2776 ms\n",
      "\n",
      "0%   10   20   30   40   50   60   70   80   90   100%\n",
      "|----|----|----|----|----|----|----|----|----|----|\n",
      "***************************************************\n",
      "Caller time: 39196 ms, Samples called: 387099312, samples/s: 9.87599e+06\n",
      "Finishing up any open output files.\n",
      "Basecalling completed successfully.\n"
     ]
    }
   ],
   "source": [
    "# -> 切換目錄\n",
    "%cd ~/class20211116\n",
    "\n",
    "# -> 載入singularity, 利用singularity執行程式\n",
    "!ml singularity; \\\n",
    "singularity exec \\\n",
    "    -B /work/c00cjz002/data/fasta5 \\\n",
    "    ${HOME}/guppy-gpu_latest.sif \\\n",
    "    guppy_basecaller \\\n",
    "    --compress_fastq \\\n",
    "    -i /work/c00cjz002/data/fasta5/g1/fast5_small \\\n",
    "    -s $HOME/class20211116/output/fast5_small01 \\\n",
    "    --flowcell FLO-MIN106 \\\n",
    "    --kit SQK-LSK109 \\\n",
    "    -x cuda:0"
   ]
  },
  {
   "cell_type": "code",
   "execution_count": null,
   "id": "04ea1da6-1606-4d28-b8d4-c07ebe006cdf",
   "metadata": {},
   "outputs": [],
   "source": []
  }
 ],
 "metadata": {
  "kernelspec": {
   "display_name": "Python 3 (ipykernel)",
   "language": "python",
   "name": "python3"
  },
  "language_info": {
   "codemirror_mode": {
    "name": "ipython",
    "version": 3
   },
   "file_extension": ".py",
   "mimetype": "text/x-python",
   "name": "python",
   "nbconvert_exporter": "python",
   "pygments_lexer": "ipython3",
   "version": "3.8.12"
  }
 },
 "nbformat": 4,
 "nbformat_minor": 5
}
