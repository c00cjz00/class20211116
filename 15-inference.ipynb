{
 "cells": [
  {
   "cell_type": "markdown",
   "id": "f10f9ef0",
   "metadata": {},
   "source": [
    "### 15. 台灣杉三號 INFERENCE\n",
    "    - 課程重點: 學習如何自訂 pip install (target) 安裝位置, 並安裝inference\n",
    "    - https://hackmd.io/@whYPD8MBSHWRZV6y-ymFwQ/SkSQ1Z4tK"
   ]
  },
  {
   "cell_type": "code",
   "execution_count": null,
   "id": "819a96a5",
   "metadata": {},
   "outputs": [],
   "source": [
    "## 下載變更 pip target位置函示庫\n",
    "!wget -q https://raw.githubusercontent.com/c00cjz00/slurmjob/main/imageinit.py -O imageinit.py"
   ]
  },
  {
   "cell_type": "code",
   "execution_count": null,
   "id": "ee999054",
   "metadata": {},
   "outputs": [],
   "source": [
    "## 自動重新載入\n",
    "%load_ext autoreload\n",
    "%reload_ext autoreload\n",
    "%autoreload 2"
   ]
  },
  {
   "cell_type": "code",
   "execution_count": 12,
   "id": "0908202f",
   "metadata": {},
   "outputs": [
    {
     "name": "stdout",
     "output_type": "stream",
     "text": [
      "env: CONDA_PKGS_DIRS=/work/c00cjz002/myenv/.package_mycolab_nchc_conda/pkgs\n",
      "env: CONDA_ENVS_DIRS=/work/c00cjz002/myenv/.package_mycolab_nchc_conda/envs\n",
      "env: PYTHONUSERBASE=/work/c00cjz002/myenv/.package_mycolab_nchc_conda/envs/mycolab\n",
      "env: PIP_TARGET=/work/c00cjz002/myenv/.package_mycolab_nchc_conda/envs/mycolab/lib/python3.8/site-packages\n"
     ]
    }
   ],
   "source": [
    "## 設定安裝目錄, 安裝位置為 /work/c00cjz002/myenv/.package_mycolab_nchc_conda\n",
    "from imageinit import myimage\n",
    "myENV='mycolab'\n",
    "myimage(myENV,resetPackage=\"\")"
   ]
  },
  {
   "cell_type": "code",
   "execution_count": null,
   "id": "cb2fcbd2",
   "metadata": {},
   "outputs": [],
   "source": [
    "# 下載數據\n",
    "!git clone https://github.com/c00cjz00/fastapi08.git"
   ]
  },
  {
   "cell_type": "code",
   "execution_count": 20,
   "id": "f9c167e4",
   "metadata": {},
   "outputs": [
    {
     "name": "stdout",
     "output_type": "stream",
     "text": [
      "/home/c00cjz002/class20211116/fastapi08\n"
     ]
    }
   ],
   "source": [
    "# 切換目錄\n",
    "%cd ~/class20211116/fastapi08"
   ]
  },
  {
   "cell_type": "code",
   "execution_count": null,
   "id": "3fc57dc2",
   "metadata": {},
   "outputs": [],
   "source": [
    "# 安裝套件\n",
    "!pip install -qq --upgrade -r requirements.txt --no-user"
   ]
  },
  {
   "cell_type": "code",
   "execution_count": 14,
   "id": "d112f554",
   "metadata": {},
   "outputs": [
    {
     "name": "stdout",
     "output_type": "stream",
     "text": [
      "fastai                        2.5.3        /work/c00cjz002/myenv/.package_mycolab_nchc_conda/envs/mycolab/lib/python3.8/site-packages pip\n"
     ]
    }
   ],
   "source": [
    "# 確認 pillow 套件 安裝位置\n",
    "!pip list -v |grep -i fastai "
   ]
  },
  {
   "cell_type": "code",
   "execution_count": null,
   "id": "a280cfa0",
   "metadata": {},
   "outputs": [
    {
     "name": "stdout",
     "output_type": "stream",
     "text": [
      "\u001b[32mINFO\u001b[0m:     Started server process [\u001b[36m450\u001b[0m]\n",
      "\u001b[32mINFO\u001b[0m:     Waiting for application startup.\n",
      "\u001b[32mINFO\u001b[0m:     Application startup complete.\n",
      "\u001b[32mINFO\u001b[0m:     Uvicorn running on \u001b[1mhttp://0.0.0.0:8190\u001b[0m (Press CTRL+C to quit)\n"
     ]
    }
   ],
   "source": [
    "!python app/server.py serve"
   ]
  }
 ],
 "metadata": {
  "kernelspec": {
   "display_name": "Python 3 (ipykernel)",
   "language": "python",
   "name": "python3"
  },
  "language_info": {
   "codemirror_mode": {
    "name": "ipython",
    "version": 3
   },
   "file_extension": ".py",
   "mimetype": "text/x-python",
   "name": "python",
   "nbconvert_exporter": "python",
   "pygments_lexer": "ipython3",
   "version": "3.8.12"
  }
 },
 "nbformat": 4,
 "nbformat_minor": 5
}
