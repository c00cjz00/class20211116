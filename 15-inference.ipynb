{
 "cells": [
  {
   "cell_type": "markdown",
   "id": "0d56e59a",
   "metadata": {},
   "source": [
    "### 15. 台灣杉三號 INFERENCE\n",
    "    - 課程重點: 學習如何自訂 pip install (target) 安裝位置, 並安裝inference\n",
    "    - https://hackmd.io/@whYPD8MBSHWRZV6y-ymFwQ/SkSQ1Z4tK"
   ]
  },
  {
   "cell_type": "code",
   "execution_count": 4,
   "id": "b47d502f",
   "metadata": {},
   "outputs": [],
   "source": [
    "## 下載變更 pip target位置函示庫\n",
    "!wget -q https://raw.githubusercontent.com/c00cjz00/slurmjob/main/imageinit.py -O imageinit.py"
   ]
  },
  {
   "cell_type": "code",
   "execution_count": 5,
   "id": "c9103b8e",
   "metadata": {},
   "outputs": [
    {
     "name": "stdout",
     "output_type": "stream",
     "text": [
      "The autoreload extension is already loaded. To reload it, use:\n",
      "  %reload_ext autoreload\n"
     ]
    }
   ],
   "source": [
    "## 自動重新載入\n",
    "%load_ext autoreload\n",
    "%reload_ext autoreload\n",
    "%autoreload 2"
   ]
  },
  {
   "cell_type": "code",
   "execution_count": 6,
   "id": "38a080f8",
   "metadata": {},
   "outputs": [
    {
     "name": "stdout",
     "output_type": "stream",
     "text": [
      "env: CONDA_PKGS_DIRS=/work/c00cjz002/myenv/.package_mycolab_nchc_conda/pkgs\n",
      "env: CONDA_ENVS_DIRS=/work/c00cjz002/myenv/.package_mycolab_nchc_conda/envs\n",
      "env: PYTHONUSERBASE=/work/c00cjz002/myenv/.package_mycolab_nchc_conda/envs/mycolab\n",
      "env: PIP_TARGET=/work/c00cjz002/myenv/.package_mycolab_nchc_conda/envs/mycolab/lib/python3.8/site-packages\n",
      "rm -rf /work/c00cjz002/myenv/.package_mycolab_nchc_conda\n"
     ]
    }
   ],
   "source": [
    "## 設定安裝目錄, 安裝位置為 /work/c00cjz002/myenv/.package_mycolab_nchc_conda\n",
    "from imageinit import myimage\n",
    "myENV='mycolab'\n",
    "myimage(myENV,resetPackage=\"true\")"
   ]
  },
  {
   "cell_type": "code",
   "execution_count": 7,
   "id": "9f65fec8",
   "metadata": {},
   "outputs": [
    {
     "name": "stdout",
     "output_type": "stream",
     "text": [
      "fatal: destination path 'fastapi08' already exists and is not an empty directory.\n"
     ]
    }
   ],
   "source": [
    "# 下載數據\n",
    "!git clone https://github.com/c00cjz00/fastapi08.git"
   ]
  },
  {
   "cell_type": "code",
   "execution_count": 8,
   "id": "eb031b1a",
   "metadata": {},
   "outputs": [
    {
     "name": "stdout",
     "output_type": "stream",
     "text": [
      "/home/c00cjz002/class20211116/fastapi08\n"
     ]
    }
   ],
   "source": [
    "# 切換目錄\n",
    "%cd fastapi08"
   ]
  },
  {
   "cell_type": "code",
   "execution_count": null,
   "id": "9bf50a4e",
   "metadata": {},
   "outputs": [],
   "source": [
    "# 安裝套件\n",
    "!pip install -qq --upgrade -r requirements.txt --no-user"
   ]
  },
  {
   "cell_type": "code",
   "execution_count": null,
   "id": "2ad4fcc8",
   "metadata": {},
   "outputs": [],
   "source": [
    "# 確認 pillow 套件 安裝位置\n",
    "!pip list -v |grep -i fastapi "
   ]
  },
  {
   "cell_type": "code",
   "execution_count": null,
   "id": "1d49985f",
   "metadata": {},
   "outputs": [],
   "source": [
    "!python app/server.py"
   ]
  },
  {
   "cell_type": "code",
   "execution_count": null,
   "id": "1bd8f5b5",
   "metadata": {},
   "outputs": [],
   "source": []
  }
 ],
 "metadata": {
  "kernelspec": {
   "display_name": "Python 3 (ipykernel)",
   "language": "python",
   "name": "python3"
  },
  "language_info": {
   "codemirror_mode": {
    "name": "ipython",
    "version": 3
   },
   "file_extension": ".py",
   "mimetype": "text/x-python",
   "name": "python",
   "nbconvert_exporter": "python",
   "pygments_lexer": "ipython3",
   "version": "3.8.10"
  }
 },
 "nbformat": 4,
 "nbformat_minor": 5
}
