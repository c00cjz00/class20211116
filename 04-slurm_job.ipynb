{
 "cells": [
  {
   "cell_type": "markdown",
   "id": "0ff0e8cc-7e68-4ac5-ba88-b906398855c3",
   "metadata": {},
   "source": [
    "### 4. 台灣杉三號 HPC Slurm 工作派送排程\n",
    "    - 課程重點: 學習如何派送 台灣杉三號 slurm job\n",
    "    - https://hackmd.io/@whYPD8MBSHWRZV6y-ymFwQ/H1GGIyxuK"
   ]
  },
  {
   "cell_type": "markdown",
   "id": "4da6c0ca-604e-46a3-a856-a83224c214a5",
   "metadata": {},
   "source": [
    "請將以下文字檔案儲存成 myjob_T3C2.sh\n",
    "```\n",
    "#!/work/c00cjz002/binary/bash5.0/bin/bash\n",
    "#SBATCH -A GOV110079        # 計畫代號\n",
    "#SBATCH -J CPU_T3_C2        # 工作代號 (標籤, 可自行定義)\n",
    "#SBATCH -p ct56             # 工作區塊 \n",
    "#SBATCH -c 1                # 使用的CPU核心數\n",
    "##SBATCH --mem=4g           # 使用的記憶體容量 (不設定自動給予ram 3g)\n",
    "#SBATCH --mail-user=summerhill001@gmail.com    # 請修改為您的信向\n",
    "#SBATCH --mail-type=BEGIN,END                  # 指定送出email時機 可為NONE, BEGIN, END, FAIL, REQUEUE, ALL\n",
    "#SBATCH -o log/%j.logi      # 執行記錄檔案儲存於log目錄底下\n",
    "\n",
    "## 您的程式部分\n",
    "sleep 120\n",
    "```"
   ]
  },
  {
   "cell_type": "code",
   "execution_count": 1,
   "id": "ed4d4e6e-b0ed-4dfd-8b2c-8458d4e8928a",
   "metadata": {},
   "outputs": [
    {
     "name": "stdout",
     "output_type": "stream",
     "text": [
      "Submitted batch job 242935\n"
     ]
    }
   ],
   "source": [
    "%%bash\n",
    "## 建立 log目錄, 並派送工作\n",
    "mkdir -p log\n",
    "sbatch myjob_T3C2.sh"
   ]
  },
  {
   "cell_type": "code",
   "execution_count": 9,
   "id": "92fbac2e-5b27-4baf-af2d-4bb7f7cc7083",
   "metadata": {},
   "outputs": [
    {
     "name": "stdout",
     "output_type": "stream",
     "text": [
      "             JOBID PARTITION     NAME     USER ST       TIME  NODES NODELIST(REASON) \n"
     ]
    }
   ],
   "source": [
    "%%bash\n",
    "## 觀看執行狀況\n",
    "squeue -u `whoami`"
   ]
  },
  {
   "cell_type": "code",
   "execution_count": 8,
   "id": "00863cdc-bf6d-4818-a9ab-bfcdf60e7b23",
   "metadata": {},
   "outputs": [],
   "source": [
    "%%bash\n",
    "## 全部JOB刪除, 列出 PID 並砍掉 Process\n",
    "squeue -u `whoami` | grep -v JOBID  | awk '{print $1}' | xargs scancel  # , 列出 PID 並砍掉 Process"
   ]
  },
  {
   "cell_type": "code",
   "execution_count": null,
   "id": "eb6beecf-0f79-4949-9198-4942694e7765",
   "metadata": {},
   "outputs": [],
   "source": []
  }
 ],
 "metadata": {
  "kernelspec": {
   "display_name": "Python 3 (ipykernel)",
   "language": "python",
   "name": "python3"
  },
  "language_info": {
   "codemirror_mode": {
    "name": "ipython",
    "version": 3
   },
   "file_extension": ".py",
   "mimetype": "text/x-python",
   "name": "python",
   "nbconvert_exporter": "python",
   "pygments_lexer": "ipython3",
   "version": "3.8.12"
  }
 },
 "nbformat": 4,
 "nbformat_minor": 5
}
